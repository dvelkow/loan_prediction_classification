{
 "cells": [
  {
   "cell_type": "code",
   "execution_count": 2,
   "id": "1d99f3d8-949a-4f16-89e2-6c7ec7d1dca2",
   "metadata": {},
   "outputs": [],
   "source": [
    "import pandas as pd\n",
    "import matplotlib.pyplot as plt\n",
    "import numpy as np\n",
    "import seaborn as sns\n",
    "import sqlite3\n",
    "import re\n",
    "import sys\n",
    "import os"
   ]
  },
  {
   "cell_type": "code",
   "execution_count": 15,
   "id": "65cebaca-d784-4742-92dd-cd93433d1c4a",
   "metadata": {},
   "outputs": [
    {
     "ename": "SyntaxError",
     "evalue": "(unicode error) 'unicodeescape' codec can't decode bytes in position 2-3: truncated \\UXXXXXXXX escape (2868528263.py, line 1)",
     "output_type": "error",
     "traceback": [
      "\u001b[1;36m  Cell \u001b[1;32mIn[15], line 1\u001b[1;36m\u001b[0m\n\u001b[1;33m    dd = pd.read_csv(\"C:\\Users\\itsze\\OneDrive\\Документи\\GitHub\\loan_prediction_classification\\Dataset\\Data_Dictionary.xlsx\")\u001b[0m\n\u001b[1;37m                                                                                                                           ^\u001b[0m\n\u001b[1;31mSyntaxError\u001b[0m\u001b[1;31m:\u001b[0m (unicode error) 'unicodeescape' codec can't decode bytes in position 2-3: truncated \\UXXXXXXXX escape\n"
     ]
    }
   ],
   "source": [
    "dd = pd.read_csv(\"C:\\Users\\itsze\\OneDrive\\Документи\\GitHub\\loan_prediction_classification\\Dataset\\Data_Dictionary.xlsx\")"
   ]
  },
  {
   "cell_type": "code",
   "execution_count": 6,
   "id": "2e3de69d-3da3-4c8b-b1f3-08ad7b90f5fa",
   "metadata": {},
   "outputs": [],
   "source": [
    "db_l=r'C:\\Users\\itsze\\OneDrive\\Документи\\GitHub\\loan_prediction_classification\\Solution\\loan.sql'"
   ]
  }
 ],
 "metadata": {
  "kernelspec": {
   "display_name": "Python 3 (ipykernel)",
   "language": "python",
   "name": "python3"
  },
  "language_info": {
   "codemirror_mode": {
    "name": "ipython",
    "version": 3
   },
   "file_extension": ".py",
   "mimetype": "text/x-python",
   "name": "python",
   "nbconvert_exporter": "python",
   "pygments_lexer": "ipython3",
   "version": "3.11.7"
  }
 },
 "nbformat": 4,
 "nbformat_minor": 5
}
